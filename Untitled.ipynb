{
 "cells": [
  {
   "cell_type": "code",
   "execution_count": 3,
   "id": "50cd060b-eb7e-460f-a1d7-63b8b15cad2b",
   "metadata": {},
   "outputs": [
    {
     "name": "stdout",
     "output_type": "stream",
     "text": [
      "Request failed with status code 400\n"
     ]
    }
   ],
   "source": [
    "import requests\n",
    "\n",
    "url = 'https://lamapi.hel.sintef.cloud/lookup/entity-retrieval'\n",
    "string_name = 'SAVANNAH SPARROW'\n",
    "params = {\n",
    "    'name': string_name,\n",
    "    'token': 'lamapi_demo_2023',\n",
    "    'kg': 'wikidata',\n",
    "    'limit': 1000,\n",
    "    'query': {\n",
    "        \"query\": {\n",
    "            \"match\": {\n",
    "                \"name\": string_name\n",
    "            }\n",
    "        }\n",
    "    }\n",
    "}\n",
    "headers = {\n",
    "    'accept': 'application/json'\n",
    "}\n",
    "\n",
    "response = requests.get(url, params=params, headers=headers)\n",
    "\n",
    "# Check if the request was successful\n",
    "if response.status_code == 200:\n",
    "    # Parse the JSON response\n",
    "    data = response.json()\n",
    "    for entry in data[string_name.lower()]:\n",
    "        entity_id = entry['id']\n",
    "        name = entry['name']\n",
    "        ed_score = entry['ed_score']\n",
    "        jaccard_score = entry['jaccard_score']\n",
    "        print(f\"ID: {entity_id}, Name: {name}, ED Score: {ed_score}, Jaccard Score: {jaccard_score}\")\n",
    "else:\n",
    "    print(f\"Request failed with status code {response.status_code}\")"
   ]
  }
 ],
 "metadata": {
  "kernelspec": {
   "display_name": "Python 3 (ipykernel)",
   "language": "python",
   "name": "python3"
  },
  "language_info": {
   "codemirror_mode": {
    "name": "ipython",
    "version": 3
   },
   "file_extension": ".py",
   "mimetype": "text/x-python",
   "name": "python",
   "nbconvert_exporter": "python",
   "pygments_lexer": "ipython3",
   "version": "3.11.6"
  }
 },
 "nbformat": 4,
 "nbformat_minor": 5
}
